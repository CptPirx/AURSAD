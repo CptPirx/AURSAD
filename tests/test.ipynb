{
 "cells": [
  {
   "cell_type": "code",
   "execution_count": 1,
   "metadata": {
    "collapsed": true
   },
   "outputs": [],
   "source": [
    "import aursad\n",
    "\n",
    "data_path = \"E:/source/datasets/AURSAD/AURSAD.h5\""
   ]
  },
  {
   "cell_type": "code",
   "execution_count": 2,
   "outputs": [
    {
     "name": "stdout",
     "output_type": "stream",
     "text": [
      "Loaded data\n",
      "Filtering samples\n",
      "There are 2042 samples in total.\n",
      "The types and counts of different labels : \n",
      " {0: 1420, 1: 221, 2: 183, 3: 218}\n",
      "The types and counts of different labels as percentage of the total data : \n",
      " {0: 0.7, 1: 0.11, 2: 0.09, 3: 0.11}\n",
      "Reducing dimensionality\n"
     ]
    },
    {
     "name": "stderr",
     "output_type": "stream",
     "text": [
      "Padding data: 100%|██████████| 2042/2042 [00:04<00:00, 426.41it/s]\n"
     ]
    }
   ],
   "source": [
    "train_x, train_y, test_x, test_y = aursad.get_dataset_numpy(path=data_path,\n",
    "                                                            reduce_dimensionality=True,\n",
    "                                                            n_dimensions=60,\n",
    "                                                            loosening_samples=0,\n",
    "                                                            move_samples=0)"
   ],
   "metadata": {
    "collapsed": false,
    "pycharm": {
     "name": "#%%\n"
    }
   }
  },
  {
   "cell_type": "code",
   "execution_count": null,
   "outputs": [
    {
     "name": "stdout",
     "output_type": "stream",
     "text": [
      "Loaded data\n",
      "Filtering samples\n",
      "There are 2042 samples in total.\n",
      "The types and counts of different labels : \n",
      " {0: 1420, 1: 221, 2: 183, 3: 218}\n",
      "The types and counts of different labels as percentage of the total data : \n",
      " {0: 0.7, 1: 0.11, 2: 0.09, 3: 0.11}\n",
      "Reducing dimensionality\n"
     ]
    }
   ],
   "source": [
    "train_x, train_y, test_x, test_y, train_generator, test_generator = aursad.get_dataset_generator(path=data_path,\n",
    "                                                                                                window_size=100,\n",
    "                                                                                                reduce_dimensionality=True,\n",
    "                                                                                                n_dimensions=60,\n",
    "                                                                                                loosening_samples=0,\n",
    "                                                                                                move_samples=0,\n",
    "                                                                                                batch_size=256)"
   ],
   "metadata": {
    "collapsed": false,
    "pycharm": {
     "name": "#%%\n",
     "is_executing": true
    }
   }
  }
 ],
 "metadata": {
  "kernelspec": {
   "name": "anomaly_detection",
   "language": "python",
   "display_name": "anomaly_detection"
  },
  "language_info": {
   "codemirror_mode": {
    "name": "ipython",
    "version": 2
   },
   "file_extension": ".py",
   "mimetype": "text/x-python",
   "name": "python",
   "nbconvert_exporter": "python",
   "pygments_lexer": "ipython2",
   "version": "2.7.6"
  }
 },
 "nbformat": 4,
 "nbformat_minor": 0
}