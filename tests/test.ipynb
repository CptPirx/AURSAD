{
 "cells": [
  {
   "cell_type": "code",
   "execution_count": 3,
   "metadata": {
    "collapsed": true
   },
   "outputs": [],
   "source": [
    "import aursad\n",
    "import numpy as np\n",
    "\n",
    "data_path = \"E:/source/datasets/AURSAD/AURSAD.h5\""
   ]
  },
  {
   "cell_type": "code",
   "execution_count": 2,
   "outputs": [
    {
     "name": "stdout",
     "output_type": "stream",
     "text": [
      "Loaded data\n",
      "Filtering samples\n",
      "There are 2042 samples in total.\n",
      "The types and counts of different labels : \n",
      " {0: 1420, 1: 221, 2: 183, 3: 218}\n",
      "The types and counts of different labels as percentage of the total data : \n",
      " {0: 0.7, 1: 0.11, 2: 0.09, 3: 0.11}\n",
      "Reducing dimensionality\n"
     ]
    },
    {
     "name": "stderr",
     "output_type": "stream",
     "text": [
      "Padding data: 100%|██████████| 2042/2042 [00:04<00:00, 426.41it/s]\n"
     ]
    }
   ],
   "source": [
    "train_x, train_y, test_x, test_y = aursad.get_dataset_numpy(path=data_path,\n",
    "                                                            reduce_dimensionality=True,\n",
    "                                                            n_dimensions=60,\n",
    "                                                            loosening_samples=0,\n",
    "                                                            move_samples=0)"
   ],
   "metadata": {
    "collapsed": false,
    "pycharm": {
     "name": "#%%\n"
    }
   }
  },
  {
   "cell_type": "code",
   "execution_count": 2,
   "outputs": [
    {
     "name": "stdout",
     "output_type": "stream",
     "text": [
      "Loaded data\n",
      "Filtering samples\n",
      "There are 2042 samples in total.\n",
      "The types and counts of different labels : \n",
      " {0: 1420, 1: 221, 2: 183, 3: 218}\n",
      "The types and counts of different labels as percentage of the total data : \n",
      " {0: 0.7, 1: 0.11, 2: 0.09, 3: 0.11}\n",
      "Reducing dimensionality\n"
     ]
    },
    {
     "name": "stderr",
     "output_type": "stream",
     "text": [
      "Padding data: 100%|██████████| 2042/2042 [00:04<00:00, 424.89it/s]\n"
     ]
    }
   ],
   "source": [
    "train_x, train_y, test_x, test_y, train_generator, test_generator = aursad.get_dataset_generator(path=data_path,\n",
    "                                                                                                window_size=100,\n",
    "                                                                                                reduce_dimensionality=True,\n",
    "                                                                                                n_dimensions=60,\n",
    "                                                                                                loosening_samples=0,\n",
    "                                                                                                move_samples=0,\n",
    "                                                                                                batch_size=256)"
   ],
   "metadata": {
    "collapsed": false,
    "pycharm": {
     "name": "#%%\n"
    }
   }
  },
  {
   "cell_type": "code",
   "execution_count": 5,
   "outputs": [
    {
     "ename": "TypeError",
     "evalue": "only size-1 arrays can be converted to Python scalars",
     "output_type": "error",
     "traceback": [
      "\u001B[1;31m---------------------------------------------------------------------------\u001B[0m",
      "\u001B[1;31mTypeError\u001B[0m                                 Traceback (most recent call last)",
      "\u001B[1;32m<ipython-input-5-ee58b417c5dd>\u001B[0m in \u001B[0;36m<module>\u001B[1;34m\u001B[0m\n\u001B[1;32m----> 1\u001B[1;33m \u001B[0mprint\u001B[0m\u001B[1;33m(\u001B[0m\u001B[0mnp\u001B[0m\u001B[1;33m.\u001B[0m\u001B[0munique\u001B[0m\u001B[1;33m(\u001B[0m\u001B[0mint\u001B[0m\u001B[1;33m(\u001B[0m\u001B[0mtest_y\u001B[0m\u001B[1;33m)\u001B[0m\u001B[1;33m)\u001B[0m\u001B[1;33m)\u001B[0m\u001B[1;33m\u001B[0m\u001B[1;33m\u001B[0m\u001B[0m\n\u001B[0m",
      "\u001B[1;31mTypeError\u001B[0m: only size-1 arrays can be converted to Python scalars"
     ]
    }
   ],
   "source": [
    "print(np.unique(test_y))"
   ],
   "metadata": {
    "collapsed": false,
    "pycharm": {
     "name": "#%%\n"
    }
   }
  }
 ],
 "metadata": {
  "kernelspec": {
   "name": "anomaly_detection",
   "language": "python",
   "display_name": "anomaly_detection"
  },
  "language_info": {
   "codemirror_mode": {
    "name": "ipython",
    "version": 2
   },
   "file_extension": ".py",
   "mimetype": "text/x-python",
   "name": "python",
   "nbconvert_exporter": "python",
   "pygments_lexer": "ipython2",
   "version": "2.7.6"
  }
 },
 "nbformat": 4,
 "nbformat_minor": 0
}