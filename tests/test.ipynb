{
 "cells": [
  {
   "cell_type": "code",
   "execution_count": 1,
   "metadata": {
    "collapsed": true
   },
   "outputs": [],
   "source": [
    "import numpy as np\n",
    "import aursad\n",
    "\n",
    "data_path = \"E:/source/repos/anomaly_simulation/Data/AURSAD.h5\""
   ]
  },
  {
   "cell_type": "code",
   "execution_count": 1,
   "outputs": [
    {
     "ename": "NameError",
     "evalue": "name 'aursad' is not defined",
     "output_type": "error",
     "traceback": [
      "\u001B[1;31m---------------------------------------------------------------------------\u001B[0m",
      "\u001B[1;31mNameError\u001B[0m                                 Traceback (most recent call last)",
      "\u001B[1;32m<ipython-input-1-0c74a3c28806>\u001B[0m in \u001B[0;36m<module>\u001B[1;34m\u001B[0m\n\u001B[1;32m----> 1\u001B[1;33m train_x, train_y, test_x, test_y = aursad.get_dataset_numpy(path=data_path,\n\u001B[0m\u001B[0;32m      2\u001B[0m                                                             \u001B[0mreduce_dimensionality\u001B[0m\u001B[1;33m=\u001B[0m\u001B[1;32mTrue\u001B[0m\u001B[1;33m,\u001B[0m\u001B[1;33m\u001B[0m\u001B[1;33m\u001B[0m\u001B[0m\n\u001B[0;32m      3\u001B[0m                                                             \u001B[0mscrewdriver_only\u001B[0m\u001B[1;33m=\u001B[0m\u001B[1;32mTrue\u001B[0m\u001B[1;33m,\u001B[0m\u001B[1;33m\u001B[0m\u001B[1;33m\u001B[0m\u001B[0m\n\u001B[0;32m      4\u001B[0m                                                             \u001B[0mn_dimensions\u001B[0m\u001B[1;33m=\u001B[0m\u001B[1;36m60\u001B[0m\u001B[1;33m,\u001B[0m\u001B[1;33m\u001B[0m\u001B[1;33m\u001B[0m\u001B[0m\n\u001B[0;32m      5\u001B[0m                                                             \u001B[0mloosening_samples\u001B[0m\u001B[1;33m=\u001B[0m\u001B[1;36m0\u001B[0m\u001B[1;33m,\u001B[0m\u001B[1;33m\u001B[0m\u001B[1;33m\u001B[0m\u001B[0m\n",
      "\u001B[1;31mNameError\u001B[0m: name 'aursad' is not defined"
     ]
    }
   ],
   "source": [
    "train_x, train_y, test_x, test_y = aursad.get_dataset_numpy(path=data_path,\n",
    "                                                            reduce_dimensionality=True,\n",
    "                                                            screwdriver_only=True,\n",
    "                                                            n_dimensions=60,\n",
    "                                                            loosening_samples=0,\n",
    "                                                            move_samples=0)"
   ],
   "metadata": {
    "collapsed": false,
    "pycharm": {
     "name": "#%%\n"
    }
   }
  },
  {
   "cell_type": "code",
   "execution_count": null,
   "outputs": [],
   "source": [
    "print(train_x.shape)\n",
    "print(train_y.shape)\n",
    "print(test_x.shape)\n",
    "print(test_y.shape)"
   ],
   "metadata": {
    "collapsed": false,
    "pycharm": {
     "name": "#%%\n"
    }
   }
  },
  {
   "cell_type": "code",
   "execution_count": 2,
   "outputs": [
    {
     "name": "stdout",
     "output_type": "stream",
     "text": [
      "Loaded data\n",
      "Only screwdriver data taken\n",
      "Filtering samples\n",
      "There are 2042 samples in total.\n",
      "The types and counts of different labels : \n",
      " {0: 1420, 1: 221, 2: 183, 3: 218}\n",
      "The types and counts of different labels as percentage of the total data : \n",
      " {0: 0.7, 1: 0.11, 2: 0.09, 3: 0.11}\n"
     ]
    },
    {
     "name": "stderr",
     "output_type": "stream",
     "text": [
      "Padding data: 100%|██████████| 2042/2042 [00:05<00:00, 400.80it/s]\n"
     ]
    }
   ],
   "source": [
    "train_x, train_y, test_x, test_y, train_generator, test_generator = aursad.get_dataset_generator(path=data_path,\n",
    "                                                                                                window_size=100,\n",
    "                                                                                                reduce_dimensionality=True,\n",
    "                                                                                                screwdriver_only=True,\n",
    "                                                                                                prediction_mode=True,\n",
    "                                                                                                n_dimensions=60,\n",
    "                                                                                                loosening_samples=0,\n",
    "                                                                                                move_samples=0,\n",
    "                                                                                                batch_size=256)"
   ],
   "metadata": {
    "collapsed": false,
    "pycharm": {
     "name": "#%%\n"
    }
   }
  },
  {
   "cell_type": "code",
   "execution_count": 3,
   "outputs": [
    {
     "name": "stdout",
     "output_type": "stream",
     "text": [
      "(1129915, 7)\n",
      "(1129915,)\n",
      "(483119, 7)\n",
      "(483119,)\n"
     ]
    }
   ],
   "source": [
    "print(train_x.shape)\n",
    "print(train_y.shape)\n",
    "print(test_x.shape)\n",
    "print(test_y.shape)"
   ],
   "metadata": {
    "collapsed": false,
    "pycharm": {
     "name": "#%%\n"
    }
   }
  },
  {
   "cell_type": "code",
   "execution_count": 6,
   "outputs": [
    {
     "name": "stdout",
     "output_type": "stream",
     "text": [
      "[0. 1.]\n",
      "[0. 1. 0. 0. 0. 1.]\n"
     ]
    }
   ],
   "source": [
    "experiment_label = test_y[:2]\n",
    "print(experiment_label)\n",
    "experiment_label = np.insert(experiment_label, 1, np.array((1., 0., 0., 0.)), 0)\n",
    "print(experiment_label)"
   ],
   "metadata": {
    "collapsed": false,
    "pycharm": {
     "name": "#%%\n"
    }
   }
  }
 ],
 "metadata": {
  "kernelspec": {
   "name": "anomaly_detection",
   "language": "python",
   "display_name": "anomaly_detection"
  },
  "language_info": {
   "codemirror_mode": {
    "name": "ipython",
    "version": 2
   },
   "file_extension": ".py",
   "mimetype": "text/x-python",
   "name": "python",
   "nbconvert_exporter": "python",
   "pygments_lexer": "ipython2",
   "version": "2.7.6"
  }
 },
 "nbformat": 4,
 "nbformat_minor": 0
}