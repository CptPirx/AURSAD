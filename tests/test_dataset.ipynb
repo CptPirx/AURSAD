{
 "cells": [
  {
   "cell_type": "code",
   "execution_count": 4,
   "metadata": {
    "collapsed": true
   },
   "outputs": [],
   "source": [
    "import numpy as np\n",
    "import aursad.utils as utils\n",
    "\n",
    "data_path = \"E:/source/repos/anomaly_simulation/Data/AURSAD.h5\"\n",
    "save_path = \"E:/source/repos/anomaly_simulation/Data/test_AURSAD.h5\""
   ]
  },
  {
   "cell_type": "code",
   "execution_count": 9,
   "outputs": [],
   "source": [
    "data = utils.load_dataset(data_path)\n",
    "filtered_data = utils.filter_samples(data,\n",
    "                                     normal_samples=0.01,\n",
    "                                     damaged_samples=0.01,\n",
    "                                     assembly_samples=0.01,\n",
    "                                     missing_samples=0.01,\n",
    "                                     damaged_thread_samples=0.01,\n",
    "                                     loosening_samples=0.01,\n",
    "                                     move_samples=0.01)"
   ],
   "metadata": {
    "collapsed": false,
    "pycharm": {
     "name": "#%%\n"
    }
   }
  },
  {
   "cell_type": "code",
   "execution_count": 10,
   "outputs": [],
   "source": [
    "filtered_data.to_hdf(save_path,\n",
    "                     key='test_dataset')"
   ],
   "metadata": {
    "collapsed": false,
    "pycharm": {
     "name": "#%%\n"
    }
   }
  }
 ],
 "metadata": {
  "kernelspec": {
   "name": "anomaly_detection",
   "language": "python",
   "display_name": "anomaly_detection"
  },
  "language_info": {
   "codemirror_mode": {
    "name": "ipython",
    "version": 2
   },
   "file_extension": ".py",
   "mimetype": "text/x-python",
   "name": "python",
   "nbconvert_exporter": "python",
   "pygments_lexer": "ipython2",
   "version": "2.7.6"
  }
 },
 "nbformat": 4,
 "nbformat_minor": 0
}