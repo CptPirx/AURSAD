{
 "cells": [
  {
   "cell_type": "code",
   "execution_count": 1,
   "metadata": {
    "collapsed": true
   },
   "outputs": [],
   "source": [
    "import numpy as np\n",
    "import matplotlib.pyplot as plt\n",
    "import pandas as pd\n",
    "import os\n",
    "import gc\n",
    "\n",
    "import time\n",
    "from datetime import datetime\n",
    "from datetime import date\n",
    "\n",
    "from pathlib import Path"
   ]
  },
  {
   "cell_type": "code",
   "execution_count": 2,
   "outputs": [],
   "source": [
    "# Get all files from all complete_results folders\n",
    "def get_file_list(dirName):\n",
    "    # create a list of file and sub directories\n",
    "    # names in the given directory\n",
    "    listOfFile = os.listdir(dirName)\n",
    "    allFiles = list()\n",
    "    # Iterate over all the entries\n",
    "    for entry in listOfFile:\n",
    "        # Create full path\n",
    "        fullPath = os.path.join(dirName, entry)\n",
    "        # If entry is a directory then get the list of files in this directory\n",
    "        if os.path.isdir(fullPath):\n",
    "            allFiles = allFiles + get_file_list(fullPath)\n",
    "        else:\n",
    "            allFiles.append(fullPath)\n",
    "\n",
    "    return allFiles"
   ],
   "metadata": {
    "collapsed": false,
    "pycharm": {
     "name": "#%%\n"
    }
   }
  },
  {
   "cell_type": "code",
   "execution_count": 3,
   "outputs": [
    {
     "name": "stdout",
     "output_type": "stream",
     "text": [
      "E:/source/repos/robot_dataset/complete_results\\horizontal_normal\\1_2020-11-10_13-01-52.csv\n",
      "E:/source/repos/robot_dataset/complete_results\\spiral_damaged_screw_thread\\1_2020-11-11_14-44-31.csv\n",
      "E:/source/repos/robot_dataset/complete_results\\spiral_damaged_screw_thread\\1_2020-11-13_13-59-46.csv\n",
      "E:/source/repos/robot_dataset/complete_results\\spiral_damaged_screw_thread\\2_2020-11-11_14-57-07.csv\n",
      "E:/source/repos/robot_dataset/complete_results\\spiral_damaged_screw_thread\\2_2020-11-13_14-03-46.csv\n",
      "E:/source/repos/robot_dataset/complete_results\\spiral_damaged_screw_thread\\3_2020-11-12_15-21-13.csv\n",
      "E:/source/repos/robot_dataset/complete_results\\spiral_damaged_screw_thread\\3_2020-11-13_14-10-38.csv\n",
      "E:/source/repos/robot_dataset/complete_results\\spiral_damaged_screw_thread\\4_2020-11-12_16-05-57.csv\n",
      "E:/source/repos/robot_dataset/complete_results\\spiral_damaged_screw_thread\\4_2020-11-13_14-22-59.csv\n",
      "E:/source/repos/robot_dataset/complete_results\\spiral_damaged_screw_thread\\5_2020-11-13_11-06-26.csv\n",
      "E:/source/repos/robot_dataset/complete_results\\spiral_damaged_screw_thread\\5_2020-11-13_14-25-52.csv\n",
      "E:/source/repos/robot_dataset/complete_results\\spiral_damaged_screw_thread\\6_2020-11-13_14-32-06.csv\n",
      "E:/source/repos/robot_dataset/complete_results\\spiral_damaged_screw_thread\\7_2020-11-17_17-17-43.csv\n",
      "E:/source/repos/robot_dataset/complete_results\\spiral_extra_assembly_comp\\1_2020-11-11_14-32-44.csv\n",
      "E:/source/repos/robot_dataset/complete_results\\spiral_missing_screw\\1_2020-11-11_15-05-54.csv\n",
      "E:/source/repos/robot_dataset/complete_results\\spiral_missing_screw\\2_2020-11-11_15-15-14.csv\n",
      "E:/source/repos/robot_dataset/complete_results\\spiral_missing_screw\\3_2020-11-11_15-16-59.csv\n",
      "E:/source/repos/robot_dataset/complete_results\\spiral_missing_screw\\4_2020-11-13_14-36-16.csv\n",
      "E:/source/repos/robot_dataset/complete_results\\spiral_missing_screw\\5_2020-11-17_15-49-16.csv\n",
      "E:/source/repos/robot_dataset/complete_results\\spiral_normal\\1_2020-11-10_12-27-27.csv\n",
      "E:/source/repos/robot_dataset/complete_results\\spiral_normal\\2_2020-11-11_11-45-20.csv\n",
      "E:/source/repos/robot_dataset/complete_results\\spiral_normal\\3_2020-11-11_15-58-16.csv\n",
      "E:/source/repos/robot_dataset/complete_results\\spiral_normal\\4_2020-11-13_15-28-47.csv\n",
      "E:/source/repos/robot_dataset/complete_results\\spiral_normal\\5_2020-11-17_16-33-58.csv\n"
     ]
    }
   ],
   "source": [
    "data_path = 'E:/source/repos/robot_dataset'\n",
    "dirName = data_path + '/complete_results'\n",
    "\n",
    "total_samples = 2045\n",
    "normal_samples = 0\n",
    "extra_assembly_samples = 0\n",
    "damaged_screw_samples = 0\n",
    "missing_screw_samples = 0\n",
    "damaged_thread_hole_samples = 0\n",
    "\n",
    "# Get the list of all files in directory tree at given path\n",
    "files_list = get_file_list(dirName)\n",
    "\n",
    "# Print the files\n",
    "for elem in files_list:\n",
    "    print(elem)"
   ],
   "metadata": {
    "collapsed": false,
    "pycharm": {
     "name": "#%%\n"
    }
   }
  },
  {
   "cell_type": "code",
   "execution_count": 4,
   "outputs": [],
   "source": [
    "def label_samples(complete_data, mode):\n",
    "    # Change the unscrewing samples(odd numbers) to normal or anomaly\n",
    "    if mode == 'partial':\n",
    "        complete_data.loc[complete_data['sample_nr'] % 2 != 0, ['label']]  = 0\n",
    "    elif mode == 'relabel_full':\n",
    "        complete_data['label_shifted'] = complete_data['label'].shift(-1)\n",
    "        complete_data['label'] = np.where(complete_data['label'] < complete_data['label_shifted'],\n",
    "                                          complete_data['label_shifted'],\n",
    "                                          complete_data['label'])\n",
    "        complete_data = complete_data.drop(['label_shifted'], axis=1)\n",
    "        complete_data.fillna(0)\n",
    "    elif mode == 'full':\n",
    "        complete_data['sample_shifted'] = complete_data['sample_nr'] - 1\n",
    "        complete_data['sample_nr'] = np.where(complete_data['sample_nr'] % 2 == 0,\n",
    "                                          complete_data['sample_shifted'],\n",
    "                                          complete_data['sample_nr'])\n",
    "        complete_data = complete_data.drop(['sample_shifted'], axis=1)\n",
    "\n",
    "        # Renumber samples\n",
    "        complete_data['sample_nr'] = (complete_data['sample_nr'] !=\n",
    "                                      complete_data['sample_nr'].shift(1)).astype(int).cumsum()\n",
    "\n",
    "    return complete_data"
   ],
   "metadata": {
    "collapsed": false,
    "pycharm": {
     "name": "#%%\n"
    }
   }
  },
  {
   "cell_type": "code",
   "execution_count": 5,
   "outputs": [],
   "source": [
    "def smooth_samples(complete_data):\n",
    "    # Smooth all the labels in a sample\n",
    "    complete_data.groupby(['sample_nr'])['label'].transform(\n",
    "        lambda x: np.round(x.mean(), decimals=0)\n",
    "    )\n",
    "\n",
    "    return complete_data"
   ],
   "metadata": {
    "collapsed": false,
    "pycharm": {
     "name": "#%%\n"
    }
   }
  },
  {
   "cell_type": "code",
   "execution_count": 6,
   "outputs": [],
   "source": [
    "def load_data():\n",
    "    dataframe_list = []\n",
    "\n",
    "    for file in files_list:\n",
    "        # Reading the file content to create a DataFrame\n",
    "        dfn = pd.read_csv(file, sep=',')\n",
    "        dataframe_list.append(dfn)\n",
    "\n",
    "    # Concat those dataframes\n",
    "    complete_data = pd.concat(dataframe_list, ignore_index=True)\n",
    "    del dataframe_list\n",
    "    gc.collect()\n",
    "\n",
    "    return complete_data"
   ],
   "metadata": {
    "collapsed": false,
    "pycharm": {
     "name": "#%%\n"
    }
   }
  },
  {
   "cell_type": "code",
   "execution_count": 7,
   "outputs": [],
   "source": [
    "def transform_data(complete_data, mode='full'):\n",
    "    # Number samples\n",
    "    complete_data['sample_nr'] = (complete_data['output_int_register_25'] !=\n",
    "                                  complete_data['output_int_register_25'].shift(1)).astype(int).cumsum()\n",
    "\n",
    "    complete_data = smooth_samples(complete_data=complete_data)\n",
    "    complete_data = label_samples(complete_data=complete_data,\n",
    "                                  mode=mode)\n",
    "\n",
    "    return complete_data"
   ],
   "metadata": {
    "collapsed": false,
    "pycharm": {
     "name": "#%%\n"
    }
   }
  },
  {
   "cell_type": "code",
   "execution_count": 10,
   "outputs": [
    {
     "name": "stdout",
     "output_type": "stream",
     "text": [
      "timestamp                 float64\n",
      "target_q_0                float64\n",
      "target_q_1                float64\n",
      "target_q_2                float64\n",
      "target_q_3                float64\n",
      "                           ...   \n",
      "output_bit_register_70       bool\n",
      "output_bit_register_71       bool\n",
      "output_bit_register_72       bool\n",
      "label                       int64\n",
      "sample_nr                   int64\n",
      "Length: 134, dtype: object\n"
     ]
    }
   ],
   "source": [
    "# Read all files into pandas\n",
    "complete_data = load_data()\n",
    "print(complete_data.dtypes)"
   ],
   "metadata": {
    "collapsed": false,
    "pycharm": {
     "name": "#%%\n"
    }
   }
  },
  {
   "cell_type": "code",
   "execution_count": 12,
   "outputs": [
    {
     "name": "stdout",
     "output_type": "stream",
     "text": [
      "timestamp\n",
      "float32\n",
      "target_q_0\n",
      "float64\n",
      "target_q_1\n",
      "float64\n",
      "target_q_2\n",
      "float64\n",
      "target_q_3\n",
      "float64\n",
      "target_q_4\n",
      "float64\n",
      "target_q_5\n",
      "float64\n",
      "target_qd_0\n",
      "float64\n",
      "target_qd_1\n",
      "float64\n",
      "target_qd_2\n",
      "float64\n",
      "target_qd_3\n",
      "float64\n",
      "target_qd_4\n",
      "float64\n",
      "target_qd_5\n",
      "float64\n",
      "target_qdd_0\n",
      "float64\n",
      "target_qdd_1\n",
      "float64\n",
      "target_qdd_2\n",
      "float64\n",
      "target_qdd_3\n",
      "float64\n",
      "target_qdd_4\n",
      "float64\n",
      "target_qdd_5\n",
      "float64\n",
      "target_current_0\n",
      "float64\n",
      "target_current_1\n",
      "float64\n",
      "target_current_2\n",
      "float64\n",
      "target_current_3\n",
      "float64\n",
      "target_current_4\n",
      "float64\n",
      "target_current_5\n",
      "float64\n",
      "target_moment_0\n",
      "float64\n",
      "target_moment_1\n",
      "float64\n",
      "target_moment_2\n",
      "float64\n",
      "target_moment_3\n",
      "float64\n",
      "target_moment_4\n",
      "float64\n",
      "target_moment_5\n",
      "float64\n",
      "actual_q_0\n",
      "float64\n",
      "actual_q_1\n",
      "float64\n",
      "actual_q_2\n",
      "float64\n",
      "actual_q_3\n",
      "float64\n",
      "actual_q_4\n",
      "float64\n",
      "actual_q_5\n",
      "float64\n",
      "actual_qd_0\n",
      "float64\n",
      "actual_qd_1\n",
      "float64\n",
      "actual_qd_2\n",
      "float64\n",
      "actual_qd_3\n",
      "float64\n",
      "actual_qd_4\n",
      "float64\n",
      "actual_qd_5\n",
      "float64\n",
      "actual_current_0\n",
      "float64\n",
      "actual_current_1\n",
      "float64\n",
      "actual_current_2\n",
      "float64\n",
      "actual_current_3\n",
      "float64\n",
      "actual_current_4\n",
      "float64\n",
      "actual_current_5\n",
      "float64\n",
      "joint_control_output_0\n",
      "float64\n",
      "joint_control_output_1\n",
      "float64\n",
      "joint_control_output_2\n",
      "float64\n",
      "joint_control_output_3\n",
      "float64\n",
      "joint_control_output_4\n",
      "float64\n",
      "joint_control_output_5\n",
      "float64\n",
      "actual_TCP_pose_0\n",
      "float64\n",
      "actual_TCP_pose_1\n",
      "float64\n",
      "actual_TCP_pose_2\n",
      "float64\n",
      "actual_TCP_pose_3\n",
      "float64\n",
      "actual_TCP_pose_4\n",
      "float64\n",
      "actual_TCP_pose_5\n",
      "float64\n",
      "actual_TCP_speed_0\n",
      "float64\n",
      "actual_TCP_speed_1\n",
      "float64\n",
      "actual_TCP_speed_2\n",
      "float64\n",
      "actual_TCP_speed_3\n",
      "float64\n",
      "actual_TCP_speed_4\n",
      "float64\n",
      "actual_TCP_speed_5\n",
      "float64\n",
      "actual_TCP_force_0\n",
      "float64\n",
      "actual_TCP_force_1\n",
      "float64\n",
      "actual_TCP_force_2\n",
      "float64\n",
      "actual_TCP_force_3\n",
      "float64\n",
      "actual_TCP_force_4\n",
      "float64\n",
      "actual_TCP_force_5\n",
      "float64\n",
      "target_TCP_pose_0\n",
      "float64\n",
      "target_TCP_pose_1\n",
      "float64\n",
      "target_TCP_pose_2\n",
      "float64\n",
      "target_TCP_pose_3\n",
      "float64\n",
      "target_TCP_pose_4\n",
      "float64\n",
      "target_TCP_pose_5\n",
      "float64\n",
      "target_TCP_speed_0\n",
      "float64\n",
      "target_TCP_speed_1\n",
      "float64\n",
      "target_TCP_speed_2\n",
      "float64\n",
      "target_TCP_speed_3\n",
      "float64\n",
      "target_TCP_speed_4\n",
      "float64\n",
      "target_TCP_speed_5\n",
      "float64\n",
      "actual_digital_input_bits\n",
      "int64\n",
      "joint_temperatures_0\n",
      "float64\n",
      "joint_temperatures_1\n",
      "float64\n",
      "joint_temperatures_2\n",
      "float64\n",
      "joint_temperatures_3\n",
      "float64\n",
      "joint_temperatures_4\n",
      "float64\n",
      "joint_temperatures_5\n",
      "float64\n",
      "actual_execution_time\n",
      "float64\n",
      "robot_mode\n",
      "int64\n",
      "joint_mode_0\n",
      "int64\n",
      "joint_mode_1\n",
      "int64\n",
      "joint_mode_2\n",
      "int64\n",
      "joint_mode_3\n",
      "int64\n",
      "joint_mode_4\n",
      "int64\n",
      "joint_mode_5\n",
      "int64\n",
      "safety_mode\n",
      "int64\n",
      "actual_tool_accelerometer_0\n",
      "float64\n",
      "actual_tool_accelerometer_1\n",
      "float64\n",
      "actual_tool_accelerometer_2\n",
      "float64\n",
      "speed_scaling\n",
      "float64\n",
      "target_speed_fraction\n",
      "float64\n",
      "actual_momentum\n",
      "float64\n",
      "actual_main_voltage\n",
      "float64\n",
      "actual_robot_voltage\n",
      "float64\n",
      "actual_robot_current\n",
      "float64\n",
      "actual_joint_voltage_0\n",
      "float64\n",
      "actual_joint_voltage_1\n",
      "float64\n",
      "actual_joint_voltage_2\n",
      "float64\n",
      "actual_joint_voltage_3\n",
      "float64\n",
      "actual_joint_voltage_4\n",
      "float64\n",
      "actual_joint_voltage_5\n",
      "float64\n",
      "actual_digital_output_bits\n",
      "int64\n",
      "runtime_state\n",
      "int64\n",
      "output_int_register_24\n",
      "int64\n",
      "output_int_register_25\n",
      "int64\n",
      "output_int_register_26\n",
      "int64\n",
      "output_double_register_24\n",
      "float64\n",
      "output_double_register_25\n",
      "float64\n",
      "output_double_register_26\n",
      "float64\n",
      "output_double_register_27\n",
      "float64\n",
      "output_bit_register_64\n",
      "bool\n",
      "output_bit_register_65\n",
      "bool\n",
      "output_bit_register_66\n",
      "bool\n",
      "output_bit_register_67\n",
      "bool\n",
      "output_bit_register_70\n",
      "bool\n",
      "output_bit_register_71\n",
      "bool\n",
      "output_bit_register_72\n",
      "bool\n",
      "label\n",
      "int64\n",
      "sample_nr\n",
      "int64\n",
      "timestamp                 float32\n",
      "target_q_0                float32\n",
      "target_q_1                float32\n",
      "target_q_2                float32\n",
      "target_q_3                float32\n",
      "                           ...   \n",
      "output_bit_register_70       bool\n",
      "output_bit_register_71       bool\n",
      "output_bit_register_72       bool\n",
      "label                        int8\n",
      "sample_nr                    int8\n",
      "Length: 134, dtype: object\n"
     ]
    }
   ],
   "source": [
    "# Change dtypes to smaller\n",
    "for column in list(complete_data):\n",
    "    if complete_data[column].dtype == 'int64' or complete_data[column].dtype == 'int32':\n",
    "        complete_data[column] = complete_data[column].astype('int8')\n",
    "    if complete_data[column].dtype == 'float64':\n",
    "        complete_data[column] = complete_data[column].astype('float32')\n",
    "\n",
    "print(complete_data.dtypes)"
   ],
   "metadata": {
    "collapsed": false,
    "pycharm": {
     "name": "#%%\n"
    }
   }
  },
  {
   "cell_type": "code",
   "execution_count": 13,
   "outputs": [],
   "source": [
    "complete_data = transform_data(complete_data=complete_data,\n",
    "                               mode='full')"
   ],
   "metadata": {
    "collapsed": false,
    "pycharm": {
     "name": "#%%\n"
    }
   }
  },
  {
   "cell_type": "code",
   "execution_count": 14,
   "outputs": [
    {
     "name": "stdout",
     "output_type": "stream",
     "text": [
      "There are 1022.5 samples in total.\n",
      "The types and counts of different labels as percentage of total data: \n",
      " {0.0: 67.73, 1.0: 13.55, 2.0: 8.61, 3.0: 10.07, 4.0: 0.05}\n"
     ]
    }
   ],
   "source": [
    "# Data statistics\n",
    "# Number of total samples\n",
    "print('There are {n_samples} samples in total.'.format(n_samples=complete_data['sample_nr'].max()/2))\n",
    "\n",
    "# Count the different types of labels\n",
    "grouped_df = complete_data.groupby(['sample_nr']).mean()\n",
    "grouped_df['label'] = np.round(grouped_df['label'], decimals=0)\n",
    "\n",
    "(unique, counts) = np.unique(grouped_df['label'], return_counts=True)\n",
    "count_dict = {A: B for A, B in zip(unique, np.round((counts / len(grouped_df.index)) * 100, decimals=2))}\n",
    "# count_dict = {A: B for A, B in zip(unique, counts)}\n",
    "\n",
    "print('The types and counts of different labels as percentage of total data: \\n {count_dict}'.format(count_dict=count_dict))"
   ],
   "metadata": {
    "collapsed": false,
    "pycharm": {
     "name": "#%%\n"
    }
   }
  },
  {
   "cell_type": "code",
   "execution_count": 15,
   "outputs": [],
   "source": [
    "%matplotlib qt\n",
    "\n",
    "plot_data = complete_data[:500000]\n",
    "\n",
    "plt.plot(plot_data['label'] * 10)\n",
    "plt.plot(plot_data['sample_nr'])\n",
    "plt.plot(plot_data['output_int_register_25'])\n",
    "\n",
    "plt.show()"
   ],
   "metadata": {
    "collapsed": false,
    "pycharm": {
     "name": "#%%\n"
    }
   }
  }
 ],
 "metadata": {
  "kernelspec": {
   "name": "anomaly_detection",
   "language": "python",
   "display_name": "anomaly_detection"
  },
  "language_info": {
   "codemirror_mode": {
    "name": "ipython",
    "version": 2
   },
   "file_extension": ".py",
   "mimetype": "text/x-python",
   "name": "python",
   "nbconvert_exporter": "python",
   "pygments_lexer": "ipython2",
   "version": "2.7.6"
  }
 },
 "nbformat": 4,
 "nbformat_minor": 0
}