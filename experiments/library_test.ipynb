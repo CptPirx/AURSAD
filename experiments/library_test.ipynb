{
 "cells": [
  {
   "cell_type": "code",
   "execution_count": 3,
   "metadata": {
    "collapsed": true
   },
   "outputs": [],
   "source": [
    "import urdata.urdata as urdata\n",
    "\n",
    "data_path = 'C:/Users/au614889/PycharmProjects/robot_dataset/created_dataset/robot_data.h5'"
   ]
  },
  {
   "cell_type": "code",
   "execution_count": 4,
   "outputs": [
    {
     "name": "stdout",
     "output_type": "stream",
     "text": [
      "Subsampling data\n",
      "Filtering samples\n",
      "There are 2042 samples in total.\n",
      "The types and counts of different labels : \n",
      " {0: 1420, 1: 221, 2: 183, 3: 218}\n",
      "The types and counts of different labels as percentage of the total data : \n",
      " {0: 0.7, 1: 0.11, 2: 0.09, 3: 0.11}\n",
      "Padding data\n"
     ]
    },
    {
     "name": "stderr",
     "output_type": "stream",
     "text": [
      "Padding data: 100%|██████████| 2042/2042 [00:07<00:00, 281.41it/s]\n"
     ]
    }
   ],
   "source": [
    "train_x, train_y, test_x, test_y = urdata.get_dataset(data_path)"
   ],
   "metadata": {
    "collapsed": false,
    "pycharm": {
     "name": "#%%\n"
    }
   }
  }
 ],
 "metadata": {
  "kernelspec": {
   "name": "pycharm-8dac9c70",
   "language": "python",
   "display_name": "PyCharm (anomaly_detection)"
  },
  "language_info": {
   "codemirror_mode": {
    "name": "ipython",
    "version": 2
   },
   "file_extension": ".py",
   "mimetype": "text/x-python",
   "name": "python",
   "nbconvert_exporter": "python",
   "pygments_lexer": "ipython2",
   "version": "2.7.6"
  }
 },
 "nbformat": 4,
 "nbformat_minor": 0
}