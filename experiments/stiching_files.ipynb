{
 "cells": [
  {
   "cell_type": "markdown",
   "metadata": {
    "collapsed": true,
    "pycharm": {
     "name": "#%% md\n"
    }
   },
   "source": [
    "Notebook for stiching separate experiment files into one"
   ]
  },
  {
   "cell_type": "code",
   "execution_count": 2,
   "outputs": [],
   "source": [
    "import numpy as np\n",
    "import matplotlib.pyplot as plt\n",
    "import pandas as pd\n",
    "import os\n",
    "import re\n",
    "\n",
    "import time\n",
    "from datetime import datetime\n",
    "from datetime import date\n",
    "\n",
    "from pathlib import Path"
   ],
   "metadata": {
    "collapsed": false,
    "pycharm": {
     "name": "#%%\n"
    }
   }
  },
  {
   "cell_type": "code",
   "execution_count": 32,
   "outputs": [],
   "source": [
    "def sort_human(l):\n",
    "    convert = lambda text: float(text) if text.isdigit() else text\n",
    "    alphanum = lambda key: [convert(c) for c in re.split('([-+]?[0-9]*\\.?[0-9]*)', key)]\n",
    "    l.sort(key=alphanum)\n",
    "    return l"
   ],
   "metadata": {
    "collapsed": false,
    "pycharm": {
     "name": "#%%\n"
    }
   }
  },
  {
   "cell_type": "code",
   "execution_count": 33,
   "outputs": [],
   "source": [
    "# Get the names of all files in the folder\n",
    "folder_path = Path('../test_results/horiz')\n",
    "save_path = Path('../complete_results/spiral_damaged_screw_thread')\n",
    "\n",
    "extra_assembly_label = 1        # Extra assembly component\n",
    "damaged_screw_label = 2         # Damaged screw thread\n",
    "missing_screw_label = 3         # Missing screw\n",
    "damaged_thread_hole_label = 4   # Damaged thread hole\n",
    "\n",
    "anomaly_label = damaged_screw_label\n",
    "\n",
    "all_files = [f for f in os.listdir(folder_path) if os.path.isfile(os.path.join(folder_path, f))]\n",
    "all_files = sort_human(all_files)"
   ],
   "metadata": {
    "collapsed": false,
    "pycharm": {
     "name": "#%%\n"
    }
   }
  },
  {
   "cell_type": "code",
   "execution_count": 35,
   "outputs": [
    {
     "name": "stdout",
     "output_type": "stream",
     "text": [
      "['42_P_to_A_2020-11-17_16-21-18.csv', '43_P_to_A_2020-11-17_16-43-29.csv']\n",
      "2\n"
     ]
    }
   ],
   "source": [
    "# Load the files in the folder\n",
    "# Decide which ones to take\n",
    "# Here just based on manually imputing numbers\n",
    "selected_numbers = list(range(42, 44))\n",
    "\n",
    "# TODO: best would to be to check the date of last complete file, and then load all files newer than that\n",
    "\n",
    "taken_files = []\n",
    "anomaly_files = []\n",
    "dataframe_list = []\n",
    "\n",
    "for f in all_files:\n",
    "    split_string = f.split('_')\n",
    "    number = int(split_string[0])\n",
    "    if number in selected_numbers and 'csv' in f:\n",
    "        taken_files.append(f)\n",
    "    if number in selected_numbers and 'txt' in f:\n",
    "        anomaly_files.append(f)\n",
    "\n",
    "for file in taken_files:\n",
    "    file_path = Path(folder_path) / Path(file)\n",
    "    # Reading the file content to create a DataFrame\n",
    "    dfn = pd.read_csv(file_path, sep=' ')\n",
    "    dataframe_list.append(dfn)\n",
    "\n",
    "print(taken_files)\n",
    "print(len(taken_files))"
   ],
   "metadata": {
    "collapsed": false,
    "pycharm": {
     "name": "#%%\n"
    }
   }
  },
  {
   "cell_type": "code",
   "execution_count": 37,
   "outputs": [
    {
     "name": "stdout",
     "output_type": "stream",
     "text": [
      "[[3, 9, 12, 14, 20, 31, 39, 51, 52, 62], [3, 9, 12, 14, 20, 31, 39, 51, 52, 62]]\n",
      "2\n"
     ]
    }
   ],
   "source": [
    "anomalies_list = []\n",
    "\n",
    "# Read the anomaly points\n",
    "for file in anomaly_files:\n",
    "    anomaly_path = Path(folder_path) / Path(file)\n",
    "    if os.path.getsize(anomaly_path) > 0:\n",
    "        file = open(anomaly_path, 'r')\n",
    "\n",
    "        anomalies_string = file.read()\n",
    "        anomalies_string = anomalies_string.replace(\"[\", \"\")\n",
    "        anomalies_string = anomalies_string.replace(\"]\", \"\")\n",
    "\n",
    "        anomalies = anomalies_string.split(',')\n",
    "        anomalies = [int(x) for x in anomalies]\n",
    "        anomalies_list.append(anomalies)\n",
    "    else:\n",
    "        anomalies_list.append([])\n",
    "\n",
    "print(anomalies_list)\n",
    "print(len(anomalies_list))"
   ],
   "metadata": {
    "collapsed": false,
    "pycharm": {
     "name": "#%%\n"
    }
   }
  },
  {
   "cell_type": "code",
   "execution_count": 7,
   "outputs": [],
   "source": [
    "# Manual fix to some data\n",
    "# dataframe_list[0] = dataframe_list[0].loc[dataframe_list[0]['output_int_register_25'] != 20]\n",
    "# dataframe_list[1] = dataframe_list[1].loc[dataframe_list[1]['output_int_register_26'] != 101]\n",
    "# print(len(dataframe_list[0].index))"
   ],
   "metadata": {
    "collapsed": false,
    "pycharm": {
     "name": "#%%\n"
    }
   }
  },
  {
   "cell_type": "code",
   "execution_count": 38,
   "outputs": [],
   "source": [
    "def label_anomalies(data, to_anomalies, anomaly_label, from_pins, to_pins, label_loosen=True, debug=False):\n",
    "    # If there are no labels already, add them\n",
    "    if 'label' not in data.columns:\n",
    "        data['label'] = 0\n",
    "        anomalies_index = []\n",
    "\n",
    "        if label_loosen:\n",
    "            # Take only those to_anomalies which are in to_points\n",
    "            to_anomalies = [x for x in to_anomalies if x in to_pins]\n",
    "            # Check the index of the anomaly points in the to_sequence\n",
    "            for anomaly_point in to_anomalies:\n",
    "                anomalies_index.append(to_pins.index(anomaly_point))\n",
    "\n",
    "            anomalies_index.sort()\n",
    "\n",
    "            # Get from_points at these indices\n",
    "            from_anomalies = [from_pins[i] for i in anomalies_index]\n",
    "\n",
    "            if debug:\n",
    "                print(f'from_anomalies: {from_anomalies}')\n",
    "                # print(to_pins)\n",
    "                print(f'to_anomalies: {to_anomalies}')\n",
    "                print(f'anomalies_index: {anomalies_index}')\n",
    "                pins_dict = {A: B for A, B in zip(from_pins, to_pins)}\n",
    "                print(pins_dict)\n",
    "                to_check = data.groupby('output_int_register_25', sort=False).mean()\n",
    "                from_check = data.groupby('output_int_register_26', sort=False).mean()\n",
    "                print(f'from_pins: {list(from_check.index)}')\n",
    "                print(f'to_pins: {list(to_check.index)}')\n",
    "                print('\\n')\n",
    "\n",
    "            # Label these points as anomalies\n",
    "            data.loc[data['output_int_register_25'].isin(to_anomalies), \"label\"] = anomaly_label\n",
    "            data.loc[data['output_int_register_26'].isin(from_anomalies), \"label\"] = anomaly_label\n",
    "        else:\n",
    "            data.loc[data['output_int_register_25'].isin(to_anomalies), \"label\"] = anomaly_label\n",
    "    else:\n",
    "        data['label'] = np.where(data['label'] == 'normal', 0, anomaly_label)\n",
    "\n",
    "    return data"
   ],
   "metadata": {
    "collapsed": false,
    "pycharm": {
     "name": "#%%\n"
    }
   }
  },
  {
   "cell_type": "code",
   "execution_count": 39,
   "outputs": [],
   "source": [
    "labeled_list = []\n",
    "label_loosen = True\n",
    "\n",
    "for i, df in enumerate(dataframe_list):\n",
    "    # Get the sequence from the points\n",
    "    from_check = df['output_int_register_26'].loc[(df['output_int_register_26'].shift() != df['output_int_register_26'])]\n",
    "    from_check = from_check.loc[from_check != 0]\n",
    "    from_pins = list(from_check.values)\n",
    "    from_pins = [int(x) for x in from_pins]\n",
    "\n",
    "    to_check = df['output_int_register_25'].loc[(df['output_int_register_25'].shift() != df['output_int_register_25'])]\n",
    "    to_check = to_check.loc[to_check != 0]\n",
    "    to_pins = list(to_check.values)\n",
    "    to_pins = [int(x) for x in to_pins]\n",
    "\n",
    "    # Check if there's at least one completed correct motion\n",
    "    if len(to_pins) >= 2 and len(from_pins) >= 2:\n",
    "        # Delete the last incomplete point, so that we start from home position\n",
    "        df = df[df['output_int_register_25'] != to_pins[-1]]\n",
    "        df = df[df['output_int_register_26'] != from_pins[-1]]\n",
    "\n",
    "        to_pins = to_pins[:]\n",
    "        from_pins = from_pins[:]\n",
    "\n",
    "        if len(anomalies_list) > 0:\n",
    "            send_anomalies = anomalies_list[i]\n",
    "        else:\n",
    "            send_anomalies = []\n",
    "\n",
    "        labeled_df = label_anomalies(data=df, to_anomalies=send_anomalies, from_pins=from_pins, to_pins=to_pins,\n",
    "                                    anomaly_label=anomaly_label, label_loosen=label_loosen, debug=False)\n",
    "        labeled_list.append(labeled_df)"
   ],
   "metadata": {
    "collapsed": false,
    "pycharm": {
     "name": "#%%\n"
    }
   }
  },
  {
   "cell_type": "code",
   "execution_count": 40,
   "outputs": [],
   "source": [
    "# Join the dataframes\n",
    "if len(labeled_list) > 1:\n",
    "    labeled_data = pd.concat(labeled_list, ignore_index=True)\n",
    "else:\n",
    "    labeled_data = labeled_list[0]\n",
    "\n",
    "# Number the samples\n",
    "labeled_data['sample_nr'] = (labeled_data['output_int_register_25'] != labeled_data['output_int_register_25'].shift(1)).astype(int).cumsum()"
   ],
   "metadata": {
    "collapsed": false,
    "pycharm": {
     "name": "#%%\n"
    }
   }
  },
  {
   "cell_type": "code",
   "execution_count": 1,
   "outputs": [
    {
     "ename": "NameError",
     "evalue": "name 'plt' is not defined",
     "output_type": "error",
     "traceback": [
      "\u001B[1;31m---------------------------------------------------------------------------\u001B[0m",
      "\u001B[1;31mNameError\u001B[0m                                 Traceback (most recent call last)",
      "\u001B[1;32m<ipython-input-1-f4a681faadc3>\u001B[0m in \u001B[0;36m<module>\u001B[1;34m\u001B[0m\n\u001B[0;32m      1\u001B[0m \u001B[0mget_ipython\u001B[0m\u001B[1;33m(\u001B[0m\u001B[1;33m)\u001B[0m\u001B[1;33m.\u001B[0m\u001B[0mrun_line_magic\u001B[0m\u001B[1;33m(\u001B[0m\u001B[1;34m'matplotlib'\u001B[0m\u001B[1;33m,\u001B[0m \u001B[1;34m'qt'\u001B[0m\u001B[1;33m)\u001B[0m\u001B[1;33m\u001B[0m\u001B[1;33m\u001B[0m\u001B[0m\n\u001B[0;32m      2\u001B[0m \u001B[1;33m\u001B[0m\u001B[0m\n\u001B[1;32m----> 3\u001B[1;33m \u001B[0mplt\u001B[0m\u001B[1;33m.\u001B[0m\u001B[0mplot\u001B[0m\u001B[1;33m(\u001B[0m\u001B[0mlabeled_data\u001B[0m\u001B[1;33m[\u001B[0m\u001B[1;34m'label'\u001B[0m\u001B[1;33m]\u001B[0m \u001B[1;33m*\u001B[0m \u001B[1;36m10\u001B[0m\u001B[1;33m)\u001B[0m\u001B[1;33m\u001B[0m\u001B[1;33m\u001B[0m\u001B[0m\n\u001B[0m\u001B[0;32m      4\u001B[0m \u001B[0mplt\u001B[0m\u001B[1;33m.\u001B[0m\u001B[0mplot\u001B[0m\u001B[1;33m(\u001B[0m\u001B[0mlabeled_data\u001B[0m\u001B[1;33m[\u001B[0m\u001B[1;34m'sample_nr'\u001B[0m\u001B[1;33m]\u001B[0m\u001B[1;33m)\u001B[0m\u001B[1;33m\u001B[0m\u001B[1;33m\u001B[0m\u001B[0m\n\u001B[0;32m      5\u001B[0m \u001B[0mplt\u001B[0m\u001B[1;33m.\u001B[0m\u001B[0mplot\u001B[0m\u001B[1;33m(\u001B[0m\u001B[0mlabeled_data\u001B[0m\u001B[1;33m[\u001B[0m\u001B[1;34m'output_int_register_25'\u001B[0m\u001B[1;33m]\u001B[0m\u001B[1;33m)\u001B[0m\u001B[1;33m\u001B[0m\u001B[1;33m\u001B[0m\u001B[0m\n",
      "\u001B[1;31mNameError\u001B[0m: name 'plt' is not defined"
     ]
    }
   ],
   "source": [
    "%matplotlib qt\n",
    "\n",
    "plt.plot(labeled_data['label'] * 10)\n",
    "plt.plot(labeled_data['sample_nr'])\n",
    "plt.plot(labeled_data['output_int_register_25'])\n",
    "# plt.plot(labeled_data['output_int_register_26'])\n",
    "plt.plot(labeled_data['output_double_register_25'] * 10)\n",
    "\n",
    "plt.show()"
   ],
   "metadata": {
    "collapsed": false,
    "pycharm": {
     "name": "#%%\n"
    }
   }
  },
  {
   "cell_type": "code",
   "execution_count": 41,
   "outputs": [],
   "source": [
    "# Tidy the data\n",
    "# Delete the label_plot column\n",
    "if 'label_plot' in labeled_data.columns:\n",
    "    labeled_data = labeled_data.drop(['label_plot'], axis=1)\n",
    "\n",
    "# Delete the last sample, as it's just home position\n",
    "labeled_data = labeled_data[labeled_data['sample_nr'] != max(labeled_data['sample_nr'])]\n",
    "\n",
    "# Delete wrong samples\n",
    "wrong_to_samples = []\n",
    "if len(wrong_to_samples) > 0:\n",
    "    # wrong_from_samples = [x - 1 for x in wrong_to_samples]\n",
    "    labeled_data = labeled_data[~labeled_data['sample_nr'].isin(wrong_to_samples)]\n",
    "\n",
    "    labeled_data = labeled_data.reset_index(drop=True)\n",
    "    labeled_data.drop(['sample_nr'], axis=1)\n",
    "    labeled_data['sample_nr'] = (labeled_data['output_int_register_25'] != labeled_data['output_int_register_25'].shift(1)).astype(int).cumsum()\n",
    "\n",
    "# Manually change specific labels\n",
    "# Extra assembly anomalies\n",
    "assembly_anomalies = []\n",
    "if len(assembly_anomalies) > 0:\n",
    "    labeled_data.loc[labeled_data['output_int_register_25'].isin(assembly_anomalies), 'label'] = extra_assembly_label\n",
    "\n",
    "    # Get the from sample numbers\n",
    "    extra_assembly_samples = np.unique(labeled_data['sample_nr'].loc[labeled_data['label'] == extra_assembly_label])\n",
    "\n",
    "    # Now get the from_pins associated with these samples\n",
    "    extra_assembly_from_pins = list(np.unique(labeled_data['output_int_register_26'].loc[labeled_data['sample_nr'].isin(extra_assembly_samples)]))\n",
    "    extra_assembly_from_pins.remove(0)\n",
    "\n",
    "    # Label those from_pins\n",
    "    labeled_data.loc[labeled_data['output_int_register_26'].isin(extra_assembly_from_pins), 'label'] = extra_assembly_label\n",
    "\n",
    "# Missing screw anomalies\n",
    "missing_anomalies = []\n",
    "if len(missing_anomalies) > 0:\n",
    "    labeled_data.loc[labeled_data['output_int_register_25'].isin(missing_anomalies), 'label'] = missing_screw_label\n",
    "\n",
    "    # Get the from sample numbers\n",
    "    missing_screw_samples = np.unique(labeled_data['sample_nr'].loc[labeled_data['label'] == missing_screw_label])\n",
    "\n",
    "    # Now get the from_pins associated with these samples\n",
    "    missing_screw_from_pins = list(np.unique(labeled_data['output_int_register_26'].loc[labeled_data['sample_nr'].isin(missing_screw_samples)]))\n",
    "    missing_screw_from_pins.remove(0)\n",
    "\n",
    "    # Label those from_pins\n",
    "    labeled_data.loc[labeled_data['output_int_register_26'].isin(missing_screw_from_pins), 'label'] = missing_screw_label\n",
    "\n",
    "# Damaged thread hole anomalies\n",
    "damaged_thread_hole_anomalies = []\n",
    "if len(damaged_thread_hole_anomalies) > 0:\n",
    "    labeled_data.loc[labeled_data['output_int_register_25'].isin(damaged_thread_hole_anomalies), 'label'] = damaged_thread_hole_label\n",
    "\n",
    "    # Get the from sample numbers\n",
    "    damaged_thread_hole_samples = np.unique(labeled_data['sample_nr'].loc[labeled_data['label'] == damaged_thread_hole_label])\n",
    "    damaged_thread_hole_samples = [x - 1 for x in damaged_thread_hole_samples]\n",
    "\n",
    "    # Now get the from_pins associated with these samples\n",
    "    damaged_thread_hole_from_pins = list(np.unique(labeled_data['output_int_register_26'].loc[labeled_data['sample_nr'].isin(damaged_thread_hole_samples)]))\n",
    "    damaged_thread_hole_from_pins.remove(0)\n",
    "\n",
    "    # Label those from_pins\n",
    "    labeled_data.loc[labeled_data['output_int_register_26'].isin(damaged_thread_hole_from_pins), 'label'] = damaged_thread_hole_label"
   ],
   "metadata": {
    "collapsed": false,
    "pycharm": {
     "name": "#%%\n"
    }
   }
  },
  {
   "cell_type": "code",
   "execution_count": 13,
   "outputs": [
    {
     "name": "stdout",
     "output_type": "stream",
     "text": [
      "Mean sample length is 1480.4.\n",
      "Longest sample is sample id 28 of length 2313\n",
      "Shortest sample is sample id 21 of length 639\n"
     ]
    }
   ],
   "source": [
    "# Get sample length statistics\n",
    "df_grouped = labeled_data.groupby(['sample_nr']).count()\n",
    "\n",
    "print('Mean sample length is {mean_value}.'.format(mean_value=df_grouped['label'].mean()))\n",
    "\n",
    "print('Longest sample is sample id {s_id} of length {s_len}'.format(s_len=df_grouped['label'].max(),\n",
    "      s_id=df_grouped['label'].idxmax()))\n",
    "\n",
    "print('Shortest sample is sample id {s_id} of length {s_len}'.format(s_len=df_grouped['label'].min(),\n",
    "      s_id=df_grouped['label'].idxmin()))"
   ],
   "metadata": {
    "collapsed": false,
    "pycharm": {
     "name": "#%%\n"
    }
   }
  },
  {
   "cell_type": "code",
   "execution_count": 43,
   "outputs": [],
   "source": [
    "def get_save_filename(folder):\n",
    "    today = date.today()\n",
    "    now = datetime.now()\n",
    "    current_time = now.strftime(\"%H-%M-%S\")\n",
    "    date_format = str(today) + \"_\" + str(current_time)\n",
    "    # get the first number of the folders inside the class results folder\n",
    "    greatest = 0\n",
    "\n",
    "    if not os.path.exists(folder):\n",
    "        os.makedirs(folder)\n",
    "    result_files = [f for f in os.listdir(folder) if os.path.isfile(os.path.join(folder, f))]\n",
    "    for f in result_files:\n",
    "        split_string = f.split('_')\n",
    "        number = int(split_string[0])\n",
    "        if number > greatest:\n",
    "            greatest = number\n",
    "    filename = str(greatest + 1) + \"_\" + date_format + \".csv\"\n",
    "    return filename"
   ],
   "metadata": {
    "collapsed": false,
    "pycharm": {
     "name": "#%%\n"
    }
   }
  },
  {
   "cell_type": "code",
   "execution_count": null,
   "outputs": [],
   "source": [
    "# Save the file\n",
    "dir_filename = save_path / Path(get_save_filename(save_path))\n",
    "labeled_data.to_csv(dir_filename, index=False, sep=\",\")\n"
   ],
   "metadata": {
    "collapsed": false,
    "pycharm": {
     "name": "#%%\n"
    }
   }
  },
  {
   "cell_type": "code",
   "execution_count": 44,
   "outputs": [],
   "source": [
    "# Save the file\n",
    "dir_filename = save_path / Path(get_save_filename(save_path))\n",
    "labeled_data.to_csv(dir_filename, index=False, sep=\",\")\n"
   ],
   "metadata": {
    "collapsed": false,
    "pycharm": {
     "name": "#%%\n"
    }
   }
  }
 ],
 "metadata": {
  "kernelspec": {
   "name": "pycharm-8dac9c70",
   "language": "python",
   "display_name": "PyCharm (anomaly_detection)"
  },
  "language_info": {
   "codemirror_mode": {
    "name": "ipython",
    "version": 2
   },
   "file_extension": ".py",
   "mimetype": "text/x-python",
   "name": "python",
   "nbconvert_exporter": "python",
   "pygments_lexer": "ipython2",
   "version": "2.7.6"
  }
 },
 "nbformat": 4,
 "nbformat_minor": 0
}